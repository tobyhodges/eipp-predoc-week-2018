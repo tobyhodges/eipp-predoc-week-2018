{
 "cells": [
  {
   "cell_type": "markdown",
   "metadata": {},
   "source": [
    "# Programming with Python\n",
    "## EMBL-EBI Predoc Week // Computational Biology/Advanced Track\n",
    "\n",
    "__Toby Hodges__  \n",
    "Bio-IT Project / Zeller Team  \n",
    "[toby.hodges@embl.de](mailto:toby.hodges@embl.de)  \n",
    "[bio-it.embl.de](https://bio-it.embl.de)  \n",
    "[@tbyhdgs](https://twitter.com/tbyhdgs/)  \n",
    "[tobyhodges](https://github.com/tobyhodges/)\n",
    "\n",
    "<img src=\"images/cc-by.png\" alt=\"Creative Commons Attribution License logo\" width=100px>\n",
    "\n",
    "These materials are made available under a permissive Creative Commons - Attribution (CC-BY) license. Anyone is welcome to re-use and adapt this material however they like, as long as they give credit to the original source."
   ]
  },
  {
   "cell_type": "markdown",
   "metadata": {},
   "source": [
    "#### Objects & Scope"
   ]
  },
  {
   "cell_type": "code",
   "execution_count": null,
   "metadata": {},
   "outputs": [],
   "source": []
  },
  {
   "cell_type": "code",
   "execution_count": null,
   "metadata": {},
   "outputs": [],
   "source": []
  },
  {
   "cell_type": "markdown",
   "metadata": {},
   "source": [
    "#### Functions & Modules"
   ]
  },
  {
   "cell_type": "code",
   "execution_count": null,
   "metadata": {},
   "outputs": [],
   "source": []
  },
  {
   "cell_type": "code",
   "execution_count": null,
   "metadata": {},
   "outputs": [],
   "source": []
  },
  {
   "cell_type": "markdown",
   "metadata": {},
   "source": [
    "#### "
   ]
  }
 ],
 "metadata": {
  "kernelspec": {
   "display_name": "Python 3",
   "language": "python",
   "name": "python3"
  },
  "language_info": {
   "codemirror_mode": {
    "name": "ipython",
    "version": 3
   },
   "file_extension": ".py",
   "mimetype": "text/x-python",
   "name": "python",
   "nbconvert_exporter": "python",
   "pygments_lexer": "ipython3",
   "version": "3.6.6"
  }
 },
 "nbformat": 4,
 "nbformat_minor": 2
}
