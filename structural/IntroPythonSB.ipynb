{
 "cells": [
  {
   "cell_type": "markdown",
   "metadata": {},
   "source": [
    "# Programming with Python\n",
    "## EMBL-EBI Predoc Week // Structural Track\n",
    "\n",
    "__Toby Hodges__  \n",
    "Bio-IT Project / Zeller Team  \n",
    "[toby.hodges@embl.de](mailto:toby.hodges@embl.de)  \n",
    "[bio-it.embl.de](https://bio-it.embl.de)  \n",
    "[@tbyhdgs](https://twitter.com/tbyhdgs/)  \n",
    "[tobyhodges](https://github.com/tobyhodges/)\n",
    "\n",
    "<img src=\"images/cc-by.png\" alt=\"Creative Commons Attribution License logo\" width=100px>\n",
    "\n",
    "These materials are made available under a permissive Creative Commons - Attribution (CC-BY) license. Anyone is welcome to re-use and adapt this material however they like, as long as they give credit to the original source."
   ]
  },
  {
   "cell_type": "markdown",
   "metadata": {},
   "source": [
    "#### Jupyter Notebook\n",
    "\n",
    "You can use this notebook interactively to add & execute your own code, modify any code that's already been written in, and make your own notes\\*. __Jupyter notebooks are not the only way to work with Python__ but they are a convenient teaching tool. We will talk later about other (more common) ways to work with Python.\n",
    "\n",
    "The notebook is made up of cells. Those with a set of `[ ]` to the left are Code cells. They can be _executed_ (see below), which means that the code inside the cell will be run and any output/errors will be displayed immediately below the cell. _Important note: cells are __not independent__. Any variables etc created in other cells that have already been executed can be refered to in all other cells._\n",
    "\n",
    "A few keyboard shortcuts:\n",
    "\n",
    "- when you have a cell selected, press __Esc__ to exit editing mode, and __Enter__ to enter editing mode\n",
    "- press __control+Enter__ to execute the currently-selected cell, and __alt+Enter__ to execute a cell and open a new, empty code cell underneath\n",
    "- when _not in editing mode_, press:\n",
    "  - __A__ to create a new cell above\n",
    "  - __B__ to create a new cell below\n",
    "  - __C__ to copy the currently-selected cell\n",
    "  - __V__ to paste it below\n",
    "\n",
    "\\* to make notes, you can use the dropdown menu above to switch a cell to Markdown mode, or use `# comments` to annotate your code cells (more on this later)."
   ]
  },
  {
   "cell_type": "code",
   "execution_count": 8,
   "metadata": {},
   "outputs": [
    {
     "name": "stdout",
     "output_type": "stream",
     "text": [
      "Welcome!\n"
     ]
    }
   ],
   "source": [
    "# Our first code cell, press control+Enter to execute it\n",
    "\n",
    "print(\"Welcome!\")"
   ]
  },
  {
   "cell_type": "markdown",
   "metadata": {},
   "source": [
    "#### Variables & Types"
   ]
  },
  {
   "cell_type": "code",
   "execution_count": null,
   "metadata": {},
   "outputs": [],
   "source": []
  },
  {
   "cell_type": "code",
   "execution_count": 9,
   "metadata": {},
   "outputs": [],
   "source": [
    "# numeric types\n"
   ]
  },
  {
   "cell_type": "code",
   "execution_count": 10,
   "metadata": {},
   "outputs": [],
   "source": [
    "# strings\n"
   ]
  },
  {
   "cell_type": "code",
   "execution_count": 11,
   "metadata": {},
   "outputs": [],
   "source": [
    "# mixing types\n"
   ]
  },
  {
   "cell_type": "code",
   "execution_count": null,
   "metadata": {},
   "outputs": [],
   "source": [
    "# lists\n"
   ]
  },
  {
   "cell_type": "markdown",
   "metadata": {},
   "source": [
    "#### Getting Help"
   ]
  },
  {
   "cell_type": "code",
   "execution_count": null,
   "metadata": {},
   "outputs": [],
   "source": []
  },
  {
   "cell_type": "code",
   "execution_count": null,
   "metadata": {},
   "outputs": [],
   "source": []
  },
  {
   "cell_type": "markdown",
   "metadata": {},
   "source": [
    "#### Error Messages"
   ]
  },
  {
   "cell_type": "code",
   "execution_count": null,
   "metadata": {},
   "outputs": [],
   "source": []
  },
  {
   "cell_type": "code",
   "execution_count": null,
   "metadata": {},
   "outputs": [],
   "source": []
  },
  {
   "cell_type": "markdown",
   "metadata": {},
   "source": [
    "#### Methods & Attributes"
   ]
  },
  {
   "cell_type": "code",
   "execution_count": null,
   "metadata": {},
   "outputs": [],
   "source": []
  },
  {
   "cell_type": "code",
   "execution_count": null,
   "metadata": {},
   "outputs": [],
   "source": []
  },
  {
   "cell_type": "markdown",
   "metadata": {},
   "source": [
    "#### Looping"
   ]
  },
  {
   "cell_type": "code",
   "execution_count": null,
   "metadata": {},
   "outputs": [],
   "source": []
  },
  {
   "cell_type": "code",
   "execution_count": null,
   "metadata": {},
   "outputs": [],
   "source": []
  },
  {
   "cell_type": "markdown",
   "metadata": {},
   "source": [
    "#### Libraries"
   ]
  },
  {
   "cell_type": "code",
   "execution_count": null,
   "metadata": {},
   "outputs": [],
   "source": []
  },
  {
   "cell_type": "code",
   "execution_count": null,
   "metadata": {},
   "outputs": [],
   "source": []
  },
  {
   "cell_type": "markdown",
   "metadata": {},
   "source": [
    "#### Biopython & Python for Structural Biology"
   ]
  },
  {
   "cell_type": "code",
   "execution_count": null,
   "metadata": {},
   "outputs": [],
   "source": []
  },
  {
   "cell_type": "code",
   "execution_count": null,
   "metadata": {},
   "outputs": [],
   "source": []
  },
  {
   "cell_type": "markdown",
   "metadata": {},
   "source": [
    "<img src=\"images/Smcra.png\" alt=\"Diagram of SMCRA architecture of the Structure object\" width=450px>"
   ]
  },
  {
   "cell_type": "markdown",
   "metadata": {},
   "source": [
    "###### Interesting Links\n",
    "\n",
    "With thanks to Vasileios!\n",
    "\n",
    "```\n",
    "1) MODELLER (https://salilab.org/modeller/) which is the most used software for extensive Homology modeling, there are some tutorials that you can also get inspired from here https://salilab.org/modeller/tutorial/\n",
    "2) PyRosetta (http://www.pyrosetta.org/) which is the Python implementation of the molecular modeling software Rosetta and it also includes multiple tutorials/workshops on how and when you can use it which you will find here http://www.pyrosetta.org/tutorials\n",
    "3) Bio.PDB module from Biopython (https://biopython.org/wiki/The_Biopython_Structural_Bioinformatics_FAQ) which includes file handlers, structure parsers, object movers etc.\n",
    "4) One of the most advanced Python libraries (actually it is partially implemented in C++ also) is the IMP (https://integrativemodeling.org/) which is specialized in the integrative modeling of protein complexes, and it also includes tutorials here https://integrativemodeling.org/1.0/tutorial/\n",
    "```"
   ]
  },
  {
   "cell_type": "markdown",
   "metadata": {},
   "source": [
    "#### Find Out More"
   ]
  },
  {
   "cell_type": "code",
   "execution_count": 1,
   "metadata": {},
   "outputs": [],
   "source": [
    "from Bio import PDB"
   ]
  },
  {
   "cell_type": "code",
   "execution_count": 2,
   "metadata": {},
   "outputs": [],
   "source": [
    "parser = PDB.PDBParser()"
   ]
  },
  {
   "cell_type": "code",
   "execution_count": 5,
   "metadata": {},
   "outputs": [
    {
     "name": "stderr",
     "output_type": "stream",
     "text": [
      "/Users/hodges/anaconda/envs/Py36/lib/python3.6/site-packages/Bio/PDB/StructureBuilder.py:90: PDBConstructionWarning: WARNING: Chain A is discontinuous at line 8068.\n",
      "  PDBConstructionWarning)\n",
      "/Users/hodges/anaconda/envs/Py36/lib/python3.6/site-packages/Bio/PDB/StructureBuilder.py:90: PDBConstructionWarning: WARNING: Chain B is discontinuous at line 8084.\n",
      "  PDBConstructionWarning)\n",
      "/Users/hodges/anaconda/envs/Py36/lib/python3.6/site-packages/Bio/PDB/StructureBuilder.py:90: PDBConstructionWarning: WARNING: Chain C is discontinuous at line 8100.\n",
      "  PDBConstructionWarning)\n",
      "/Users/hodges/anaconda/envs/Py36/lib/python3.6/site-packages/Bio/PDB/StructureBuilder.py:90: PDBConstructionWarning: WARNING: Chain D is discontinuous at line 8116.\n",
      "  PDBConstructionWarning)\n",
      "/Users/hodges/anaconda/envs/Py36/lib/python3.6/site-packages/Bio/PDB/StructureBuilder.py:90: PDBConstructionWarning: WARNING: Chain A is discontinuous at line 8132.\n",
      "  PDBConstructionWarning)\n",
      "/Users/hodges/anaconda/envs/Py36/lib/python3.6/site-packages/Bio/PDB/StructureBuilder.py:90: PDBConstructionWarning: WARNING: Chain B is discontinuous at line 8136.\n",
      "  PDBConstructionWarning)\n",
      "/Users/hodges/anaconda/envs/Py36/lib/python3.6/site-packages/Bio/PDB/StructureBuilder.py:90: PDBConstructionWarning: WARNING: Chain C is discontinuous at line 8140.\n",
      "  PDBConstructionWarning)\n",
      "/Users/hodges/anaconda/envs/Py36/lib/python3.6/site-packages/Bio/PDB/StructureBuilder.py:90: PDBConstructionWarning: WARNING: Chain D is discontinuous at line 8144.\n",
      "  PDBConstructionWarning)\n"
     ]
    }
   ],
   "source": [
    "structure = parser.get_structure('PHA-L', 'pdb1fat.ent')"
   ]
  },
  {
   "cell_type": "code",
   "execution_count": 6,
   "metadata": {},
   "outputs": [],
   "source": [
    "pdbl = PDB.PDBList()"
   ]
  },
  {
   "cell_type": "code",
   "execution_count": 7,
   "metadata": {},
   "outputs": [
    {
     "name": "stderr",
     "output_type": "stream",
     "text": [
      "WARNING: The default download format has changed from PDB to PDBx/mmCif\n"
     ]
    },
    {
     "name": "stdout",
     "output_type": "stream",
     "text": [
      "Downloading PDB structure '1FAT'...\n"
     ]
    },
    {
     "data": {
      "text/plain": [
       "'/Users/hodges/Documents/Courses/EBIPredocWeek/2018/structural/fa/1fat.cif'"
      ]
     },
     "execution_count": 7,
     "metadata": {},
     "output_type": "execute_result"
    }
   ],
   "source": [
    "pdbl.retrieve_pdb_file('1FAT')"
   ]
  }
 ],
 "metadata": {
  "kernelspec": {
   "display_name": "Python 3",
   "language": "python",
   "name": "python3"
  },
  "language_info": {
   "codemirror_mode": {
    "name": "ipython",
    "version": 3
   },
   "file_extension": ".py",
   "mimetype": "text/x-python",
   "name": "python",
   "nbconvert_exporter": "python",
   "pygments_lexer": "ipython3",
   "version": "3.6.6"
  }
 },
 "nbformat": 4,
 "nbformat_minor": 2
}
