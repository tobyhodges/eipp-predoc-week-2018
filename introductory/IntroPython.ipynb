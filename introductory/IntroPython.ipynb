{
 "cells": [
  {
   "cell_type": "markdown",
   "metadata": {},
   "source": [
    "# Programming with Python\n",
    "## EMBL-EBI Predoc Week // Introductory Track\n",
    "\n",
    "__Toby Hodges__  \n",
    "Bio-IT Project / Zeller Team  \n",
    "[toby.hodges@embl.de](mailto:toby.hodges@embl.de)  \n",
    "[bio-it.embl.de](https://bio-it.embl.de)  \n",
    "[@tbyhdgs](https://twitter.com/tbyhdgs/)  \n",
    "[tobyhodges](https://github.com/tobyhodges/)\n",
    "\n",
    "<img src=\"images/cc-by.png\" alt=\"Creative Commons Attribution License logo\" width=100px>\n",
    "\n",
    "These materials are based on a lesson by [Software Carpentry](https://software-carpentry.org/) and are made available under a permissive Creative Commons - Attribution (CC-BY) license. Anyone is welcome to re-use and adapt this material however they like, as long as they give credit to the original source."
   ]
  },
  {
   "cell_type": "markdown",
   "metadata": {},
   "source": [
    "#### Jupyter Notebook\n",
    "\n",
    "You can use this notebook interactively to add & execute your own code, modify any code that's already been written in, and make your own notes\\*. __Jupyter notebooks are not the only way to work with Python__ but they are a convenient teaching tool. We will talk later about other (more common) ways to work with Python.\n",
    "\n",
    "The notebook is made up of cells. Those with a set of `[ ]` to the left are Code cells. They can be _executed_ (see below), which means that the code inside the cell will be run and any output/errors will be displayed immediately below the cell. _Important note: cells are __not independent__. Any variables etc created in other cells that have already been executed can be refered to in all other cells._\n",
    "\n",
    "A few keyboard shortcuts:\n",
    "\n",
    "- when you have a cell selected, press __Esc__ to exit editing mode, and __Enter__ to enter editing mode\n",
    "- press __control+Enter__ to execute the currently-selected cell, and __alt+Enter__ to execute a cell and open a new, empty code cell underneath\n",
    "- when _not in editing mode_, press:\n",
    "  - __A__ to create a new cell above\n",
    "  - __B__ to create a new cell below\n",
    "  - __C__ to copy the currently-selected cell\n",
    "  - __V__ to paste it below\n",
    "\n",
    "\\* to make notes, you can use the dropdown menu above to switch a cell to Markdown mode, or use `# comments` to annotate your code cells (more on this later)."
   ]
  },
  {
   "cell_type": "code",
   "execution_count": null,
   "metadata": {},
   "outputs": [],
   "source": [
    "# Our first code cell, press control+Enter to execute it\n",
    "\n",
    "print(\"Welcome!\")"
   ]
  },
  {
   "cell_type": "markdown",
   "metadata": {},
   "source": [
    "#### Working with variables"
   ]
  },
  {
   "cell_type": "code",
   "execution_count": null,
   "metadata": {},
   "outputs": [],
   "source": []
  },
  {
   "cell_type": "code",
   "execution_count": null,
   "metadata": {},
   "outputs": [],
   "source": []
  },
  {
   "cell_type": "markdown",
   "metadata": {},
   "source": [
    "#### Data Types & Type Conversion"
   ]
  },
  {
   "cell_type": "code",
   "execution_count": null,
   "metadata": {},
   "outputs": [],
   "source": []
  },
  {
   "cell_type": "code",
   "execution_count": null,
   "metadata": {},
   "outputs": [],
   "source": []
  },
  {
   "cell_type": "markdown",
   "metadata": {},
   "source": [
    "#### Built-in Functions & Help"
   ]
  },
  {
   "cell_type": "code",
   "execution_count": null,
   "metadata": {},
   "outputs": [],
   "source": []
  },
  {
   "cell_type": "code",
   "execution_count": null,
   "metadata": {},
   "outputs": [],
   "source": []
  },
  {
   "cell_type": "markdown",
   "metadata": {},
   "source": [
    "#### Libraries"
   ]
  },
  {
   "cell_type": "code",
   "execution_count": null,
   "metadata": {},
   "outputs": [],
   "source": []
  },
  {
   "cell_type": "code",
   "execution_count": null,
   "metadata": {},
   "outputs": [],
   "source": []
  },
  {
   "cell_type": "markdown",
   "metadata": {},
   "source": [
    "#### Tabular Data & Data Frames"
   ]
  },
  {
   "cell_type": "code",
   "execution_count": null,
   "metadata": {},
   "outputs": [],
   "source": []
  },
  {
   "cell_type": "code",
   "execution_count": null,
   "metadata": {},
   "outputs": [],
   "source": []
  },
  {
   "cell_type": "markdown",
   "metadata": {},
   "source": [
    "#### Pandas DataFrames\n",
    "\n",
    "<img src=\"images/panda1.png\" alt=\"a nice image of a panda\" width=400px> Image credit: [C[http://www.flickr.com/people/30073301@N00 Chen Wu] from Shanghai, China"
   ]
  },
  {
   "cell_type": "code",
   "execution_count": null,
   "metadata": {},
   "outputs": [],
   "source": []
  },
  {
   "cell_type": "code",
   "execution_count": null,
   "metadata": {},
   "outputs": [],
   "source": []
  },
  {
   "cell_type": "markdown",
   "metadata": {},
   "source": [
    "#### Plotting"
   ]
  },
  {
   "cell_type": "code",
   "execution_count": null,
   "metadata": {},
   "outputs": [],
   "source": [
    "%matplotlib inline"
   ]
  },
  {
   "cell_type": "code",
   "execution_count": null,
   "metadata": {},
   "outputs": [],
   "source": []
  },
  {
   "cell_type": "code",
   "execution_count": null,
   "metadata": {},
   "outputs": [],
   "source": []
  },
  {
   "cell_type": "markdown",
   "metadata": {},
   "source": [
    "__Want to learn more?__ These materials are based on the [Software Carpentry](https://software-carpentry.org/) lesson [\"Plotting and Programming in Python\"](http://swcarpentry.github.io/python-novice-gapminder/), which are freely available and excellent for beginners.\n",
    "\n",
    "EMBL Bio-IT also runs two-day \"Introduction to Python\" courses, among our many other EMBL-internal computational courses. To see a listing of upcoming courses, and to learn more about Bio-IT, go to our site, [bio-it.embl.de](https://bio-it.embl.de). From there, you can also sign up to our mailing list, to make sure that you don't miss out on any of our courses.\n",
    "\n",
    "Finally, a note to members of EMBL stations other than Heidelberg: you're very welcome to join any of the courses that we run! In some cases we can stream our courses for you to follow online but often you would need to travel to Heidelberg to attend. We try to give as much advanced notice of our courses as possible, so that those from other stations can make plans to attend. In the past, we have also traveled to other stations (Rome & Grenoble so far) in cases where there is sufficient demand for a specific course. Feel free to chat to me/send me an email if you would like to discuss any of this further."
   ]
  }
 ],
 "metadata": {
  "kernelspec": {
   "display_name": "Python 3",
   "language": "python",
   "name": "python3"
  },
  "language_info": {
   "codemirror_mode": {
    "name": "ipython",
    "version": 3
   },
   "file_extension": ".py",
   "mimetype": "text/x-python",
   "name": "python",
   "nbconvert_exporter": "python",
   "pygments_lexer": "ipython3",
   "version": "3.6.6"
  }
 },
 "nbformat": 4,
 "nbformat_minor": 2
}
